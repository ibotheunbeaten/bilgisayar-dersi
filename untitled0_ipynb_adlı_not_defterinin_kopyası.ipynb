{
  "nbformat": 4,
  "nbformat_minor": 0,
  "metadata": {
    "colab": {
      "provenance": [],
      "authorship_tag": "ABX9TyMiShsvGVakLkN+KZ9FZDwc",
      "include_colab_link": true
    },
    "kernelspec": {
      "name": "python3",
      "display_name": "Python 3"
    },
    "language_info": {
      "name": "python"
    }
  },
  "cells": [
    {
      "cell_type": "markdown",
      "metadata": {
        "id": "view-in-github",
        "colab_type": "text"
      },
      "source": [
        "<a href=\"https://colab.research.google.com/github/ibotheunbeaten/bilgisayar-dersi/blob/main/untitled0_ipynb_adl%C4%B1_not_defterinin_kopyas%C4%B1.ipynb\" target=\"_parent\"><img src=\"https://colab.research.google.com/assets/colab-badge.svg\" alt=\"Open In Colab\"/></a>"
      ]
    },
    {
      "cell_type": "markdown",
      "source": [
        "ANACONDA İNDİRCEN COLABA GİRCEN GİTHUBA KAYDETCEN\n"
      ],
      "metadata": {
        "id": "K0fzXOSM7a4o"
      }
    },
    {
      "cell_type": "code",
      "source": [
        "for i in range(1,10):\n",
        "       print(\"bbbbbb\")\n"
      ],
      "metadata": {
        "colab": {
          "base_uri": "https://localhost:8080/"
        },
        "id": "o7L4rq1gLP7E",
        "outputId": "6a7e7827-9ec5-4e2c-9065-1ac17137e0f1"
      },
      "execution_count": null,
      "outputs": [
        {
          "output_type": "stream",
          "name": "stdout",
          "text": [
            "bbbbbb\n",
            "bbbbbb\n",
            "bbbbbb\n",
            "bbbbbb\n",
            "bbbbbb\n",
            "bbbbbb\n",
            "bbbbbb\n",
            "bbbbbb\n",
            "bbbbbb\n"
          ]
        }
      ]
    },
    {
      "cell_type": "code",
      "execution_count": null,
      "metadata": {
        "colab": {
          "base_uri": "https://localhost:8080/"
        },
        "id": "UvYex_WjIkck",
        "outputId": "9d4e3132-017b-4982-9c16-244dc5d69aca"
      },
      "outputs": [
        {
          "output_type": "stream",
          "name": "stdout",
          "text": [
            "merhaba\n"
          ]
        }
      ],
      "source": [
        "print(\"merhaba\")\n"
      ]
    },
    {
      "cell_type": "code",
      "source": [
        "sayi1= int(input(\"birinci sayıyı giriniz\"))\n",
        "sayi2= int((input(\"ikinci sayıyı giriniz\")))\n",
        "toplam= sayi1+sayi2\n",
        "çarpım=sayi1*sayi2\n",
        "bölme=sayi1/sayi2\n",
        "çıkarma= sayi1-sayi2\n",
        "print(\"toplamı:\",toplam)\n",
        "print(\"çarpımı:\",çarpım)\n",
        "print(\"bölme :\",bölme)\n",
        "print(\"çıkarma : \", çıkarma)\n"
      ],
      "metadata": {
        "colab": {
          "base_uri": "https://localhost:8080/"
        },
        "id": "pYH_j9dJLpsV",
        "outputId": "4036d64b-360a-4d4f-f3b1-e42bbfad3f45"
      },
      "execution_count": null,
      "outputs": [
        {
          "output_type": "stream",
          "name": "stdout",
          "text": [
            "birinci sayıyı giriniz5\n",
            "ikinci sayıyı giriniz4\n",
            "toplamı: 9\n",
            "çarpımı: 20\n",
            "bölme : 1.25\n",
            "çıkarma :  1\n"
          ]
        }
      ]
    },
    {
      "cell_type": "code",
      "source": [
        "fn=int(input(\"ilk sayıyı giriniz\"))\n",
        "sn=int(input(\"ikinci sayıyı giriniz\"))\n",
        "print(fn,\"+\",sn,\"=\",fn+sn)\n"
      ],
      "metadata": {
        "colab": {
          "base_uri": "https://localhost:8080/"
        },
        "id": "NNqsWliN49zP",
        "outputId": "088f89ef-069d-4c21-9bf2-2f6a6d2b6c77"
      },
      "execution_count": null,
      "outputs": [
        {
          "output_type": "stream",
          "name": "stdout",
          "text": [
            "ilk sayıyı giriniz5\n",
            "ikinci sayıyı giriniz1\n",
            "5 + 1 = 6\n"
          ]
        }
      ]
    },
    {
      "cell_type": "markdown",
      "source": [
        "***OPERATÖRLER***\n",
        "yas=int(input(\"yaşınız\")) / bu kodun amacı yaş değişkenini int olarak değiştirmek     \n",
        "adi=input(\"adinizi giriniz\")/ bu kod int\n",
        "\n",
        "\n",
        "\n"
      ],
      "metadata": {
        "id": "xvHNk5J97o4n"
      }
    },
    {
      "cell_type": "code",
      "source": [
        "yas=int(input(\"yaşınız\"))\n",
        "adi=input(\"adinizi giriniz\")\n"
      ],
      "metadata": {
        "id": "462dp2Gk7B9I"
      },
      "execution_count": null,
      "outputs": []
    },
    {
      "cell_type": "code",
      "source": [
        "mh=int(input(\"MOTOR HACMİ GİRİNİZ(santimetreküp cinsinden):\"))\n",
        "ötvm=int(input(\"ötvm giriniz(x1000)\"))\n",
        "if mh <1600:\n",
        "             if ötvm<184:\n",
        "                     print(\"vergi oranı=%45,yani arabanın toplam değeri =\",ötvm+ötvm*0.45)\n",
        "             elif ötvm<220:\n",
        "                     print(\"vergi oranı=%50 ,yani arabanın toplam değeri =\",ötvm+ötvm*0.50)\n",
        "             elif ötvm<250:\n",
        "                     print(\"vergi oranı=%60 ,yani arabanın toplam değeri =\",ötvm+ötvm*0.60)\n",
        "             elif ötvm<280:\n",
        "                     print(\"vergi oranı=%70 ,yani arabanın toplam değeri =\",ötvm+ötvm*0.70)\n",
        "             else : print((\"vergi oranı=%80 ,yani arabanın toplam değeri =\",ötvm+ötvm*0.80)\n",
        "\n",
        "elif mh<2000\n",
        "             if ötvm<184:\n",
        "                     print(\"vergi oranı=%45,yani arabanın toplam değeri =\",ötvm+ötvm*0.45)\n",
        "             elif ötvm<220:\n",
        "                     print(\"vergi oranı=%50 ,yani arabanın toplam değeri =\",ötvm+ötvm*0.50)\n",
        "             elif ötvm<250:\n",
        "                     print(\"vergi oranı=%60 ,yani arabanın toplam değeri =\",ötvm+ötvm*0.60)\n",
        "             elif ötvm<280:\n",
        "                     print(\"vergi oranı=%70 ,yani arabanın toplam değeri =\",ötvm+ötvm*0.70)\n",
        "             else : print((\"vergi oranı=%80 ,yani arabanın toplam değeri =\",ötvm+ötvm*0.80)\n"
      ],
      "metadata": {
        "id": "HssNaPNk3JDr"
      },
      "execution_count": null,
      "outputs": []
    },
    {
      "cell_type": "code",
      "source": [
        "x=int(input(\"yıl bilgisini giriniz:\"))\n",
        "if x%4==0:\n",
        "  if x%400==0:\n",
        "    print(\"artık yıl değildir\")\n",
        "  else:\n",
        "    print(\"artık yıldır\")\n",
        "else:\n",
        "     print(\"artık yıl değildir\")\n"
      ],
      "metadata": {
        "colab": {
          "base_uri": "https://localhost:8080/"
        },
        "id": "qQqs9_Ax2V1h",
        "outputId": "3555b877-f4f7-4dd4-ee34-3c7a55233686"
      },
      "execution_count": null,
      "outputs": [
        {
          "output_type": "stream",
          "name": "stdout",
          "text": [
            "yıl bilgisini giriniz:1900\n",
            "artık yıldır\n"
          ]
        }
      ]
    },
    {
      "cell_type": "code",
      "source": [
        "print(\"(1) toplama\\n(2) cikarma\\n(3) carpma\\n(4) bolme\\n(5) mod\\n(6) ussu\\n(7) cıkıs\\n\")\n",
        "x=int(input(\"yapmak istediğiniz işlemi giriniz:\"))\n",
        "y=int(input(\"birinci sayıyı giriniz:\"))\n",
        "z=int(input(\"ikinci sayıyı giriniz:\"))\n",
        "while a ==0:\n",
        "\n",
        " if x==1:\n",
        "   print(y,\"+\",z,\"=\",y+z)\n",
        " elif x==2:\n",
        "  print(y,\"-\",z,\"=\",y-z)\n",
        " elif x==3:\n",
        "  print(y,\"*\",z,\"=\",y*z)\n",
        " elif x==4:\n",
        "  print(y,\"/\",z,\"=\",y/z)\n",
        " elif x==5:\n",
        "  print(y,\"%\",z,\"=\",y%z)\n",
        " elif x==6:\n",
        "  print(y,\"ussu\",z,\"=\",y**z)"
      ],
      "metadata": {
        "collapsed": true,
        "id": "29sIRHrZ9B1f"
      },
      "execution_count": null,
      "outputs": []
    },
    {
      "cell_type": "code",
      "source": [
        "import random\n",
        "\n",
        "class Roulette:\n",
        "    def __init__(self):\n",
        "        # Rulet çarkındaki sayı ve renkler\n",
        "        self.numbers = [0, 32, 15, 19, 4, 21, 2, 25, 17, 34, 6, 27, 13, 36, 11, 30, 8, 23, 10, 5, 24, 16, 33, 1, 20, 14, 31, 9, 22, 18, 29, 7, 28, 12, 35, 3, 26]\n",
        "        self.red_numbers = [32, 15, 19, 4, 21, 2, 25, 17, 34, 6, 27, 13, 36, 11, 30, 8, 23, 10, 5, 24, 16, 33, 1, 20, 14, 31, 9, 22, 18, 29, 7, 28, 12, 35, 3]\n",
        "        self.black_numbers = [x for x in self.numbers if x not in self.red_numbers and x != 0]\n",
        "        self.green_numbers = [0]\n",
        "\n",
        "        self.color_map = {number: 'red' if number in self.red_numbers else 'black' if number in self.black_numbers else 'green' for number in self.numbers}\n",
        "\n",
        "    def spin_wheel(self):\n",
        "        \"\"\"Rulet çarkını döndür\"\"\"\n",
        "        return random.choice(self.numbers)\n",
        "\n",
        "    def bet_on_color(self, bet_color, amount):\n",
        "        \"\"\"Renk üzerine bahis yapma\"\"\"\n",
        "        result = self.spin_wheel()\n",
        "        color = self.color_map[result]\n",
        "        print(f\"Çarkın sonucu: {result} ({color})\")\n",
        "        if color == bet_color:\n",
        "            print(f\"Tebrikler! Kazandınız: {amount * 2}\")\n",
        "            return amount * 2  # Kazanan çift bahis\n",
        "        else:\n",
        "            print(f\"Kaybettiniz! Bahsinizin tutarı: {amount} kayboldu.\")\n",
        "            return -amount  # Kaybettiğiniz bahis miktarı\n",
        "\n",
        "    def bet_on_number(self, bet_number, amount):\n",
        "        \"\"\"Bir sayıya bahis yapma\"\"\"\n",
        "        result = self.spin_wheel()\n",
        "        print(f\"Çarkın sonucu: {result}\")\n",
        "        if result == bet_number:\n",
        "            print(f\"Tebrikler! Kazandınız: {amount * 36}\")\n",
        "            return amount * 36  # Doğru sayıya bahis\n",
        "        else:\n",
        "            print(f\"Kaybettiniz! Bahsinizin tutarı: {amount} kayboldu.\")\n",
        "            return -amount  # Kaybettiğiniz bahis miktarı\n",
        "\n",
        "    def bet_on_even_odd(self, bet_type, amount):\n",
        "        \"\"\"Çift veya tek sayıya bahis yapma\"\"\"\n",
        "        result = self.spin_wheel()\n",
        "        print(f\"Çarkın sonucu: {result}\")\n",
        "        if bet_type == 'even' and result != 0 and result % 2 == 0:\n",
        "            print(f\"Tebrikler! Kazandınız: {amount * 2}\")\n",
        "            return amount * 2\n",
        "        elif bet_type == 'odd' and result != 0 and result % 2 != 0:\n",
        "            print(f\"Tebrikler! Kazandınız: {amount * 2}\")\n",
        "            return amount * 2\n",
        "        else:\n",
        "            print(f\"Kaybettiniz! Bahsinizin tutarı: {amount} kayboldu.\")\n",
        "            return -amount\n",
        "\n",
        "# Oyunu başlatalım\n",
        "def play_roulette():\n",
        "    game = Roulette()\n",
        "\n",
        "    # Kullanıcıdan bahis türünü ve miktarını alalım\n",
        "    print(\"Hoş geldiniz! Rulet oyununa başlıyoruz.\")\n",
        "    print(\"Bahis türlerini seçin: \")\n",
        "    print(\"1. Renk (red/black)\")\n",
        "    print(\"2. Sayı (0-36)\")\n",
        "    print(\"3. Çift veya Tek (even/odd)\")\n",
        "\n",
        "    choice = input(\"Bahis türünü seçin (1/2/3): \")\n",
        "\n",
        "    if choice == '1':\n",
        "        color = input(\"Renk seçin (red/black): \").lower()\n",
        "        amount = int(input(\"Bahis tutarını girin: \"))\n",
        "        game.bet_on_color(color, amount)\n",
        "\n",
        "    elif choice == '2':\n",
        "        number = int(input(\"Bir sayı seçin (0-36): \"))\n",
        "        amount = int(input(\"Bahis tutarını girin: \"))\n",
        "        game.bet_on_number(number, amount)\n",
        "\n",
        "    elif choice == '3':\n",
        "        bet_type = input(\"Bahis türü seçin (even/odd): \").lower()\n",
        "        amount = int(input(\"Bahis tutarını girin: \"))\n",
        "        game.bet_on_even_odd(bet_type, amount)\n",
        "\n",
        "if __name__ == '__main__':\n",
        "    play_roulette()\n"
      ],
      "metadata": {
        "colab": {
          "base_uri": "https://localhost:8080/"
        },
        "id": "5reqGEIQJxff",
        "outputId": "ddfdfabc-36c8-46da-db6c-ca62a54e7371"
      },
      "execution_count": null,
      "outputs": [
        {
          "output_type": "stream",
          "name": "stdout",
          "text": [
            "Hoş geldiniz! Rulet oyununa başlıyoruz.\n",
            "Bahis türlerini seçin: \n",
            "1. Renk (red/black)\n",
            "2. Sayı (0-36)\n",
            "3. Çift veya Tek (even/odd)\n",
            "Bahis türünü seçin (1/2/3): 1\n",
            "Renk seçin (red/black): red\n",
            "Bahis tutarını girin: 1000\n",
            "Çarkın sonucu: 30 (red)\n",
            "Tebrikler! Kazandınız: 2000\n"
          ]
        }
      ]
    },
    {
      "cell_type": "code",
      "source": [
        "i=1\n",
        "while i<=10:\n",
        "  i+=1\n",
        "  if(i%3==0):\n",
        "     continue\n",
        "  else:\n",
        "      print(i)\n"
      ],
      "metadata": {
        "colab": {
          "base_uri": "https://localhost:8080/"
        },
        "id": "E-YoN89cB7wn",
        "outputId": "988645c4-9d49-47bb-9179-b6bf65c2c5a3"
      },
      "execution_count": null,
      "outputs": [
        {
          "output_type": "stream",
          "name": "stdout",
          "text": [
            "2\n",
            "4\n",
            "5\n",
            "7\n",
            "8\n",
            "10\n",
            "11\n"
          ]
        }
      ]
    },
    {
      "cell_type": "markdown",
      "source": [
        "in operatörü true ve false yanıtlarını verir\n",
        "bir cümlede ab harfleri varmı vb."
      ],
      "metadata": {
        "id": "o48E5JHFMb2P"
      }
    },
    {
      "cell_type": "code",
      "source": [
        "print(\"METİN GİRİN\")\n",
        "metin=input()\n",
        "for i in range(1, len(metin) + 1):\n",
        "  print(metin[0:i])\n",
        "\n",
        "\n",
        "\n",
        "\n"
      ],
      "metadata": {
        "colab": {
          "base_uri": "https://localhost:8080/"
        },
        "id": "TKzLk1BULBz1",
        "outputId": "c6f758ed-bcce-438b-d047-eaae85a8ba5f"
      },
      "execution_count": null,
      "outputs": [
        {
          "output_type": "stream",
          "name": "stdout",
          "text": [
            "METİN GİRİN\n",
            "merhaba\n",
            "m\n",
            "me\n",
            "mer\n",
            "merh\n",
            "merha\n",
            "merhab\n",
            "merhaba\n"
          ]
        }
      ]
    },
    {
      "cell_type": "code",
      "source": [
        "\n",
        "n= int(input(\"sayı giriniz\"))\n",
        "for i in range(n,0,-1):\n",
        "\n",
        "  print(i)\n",
        "\n",
        "for i in range(n,0,-1):\n",
        "\n",
        "  print(\"x\"*i)\n",
        "\n",
        "for i in range(n,0,-1):\n",
        "\n",
        "  print(\" \"*(sayi-i),\"x\"*i,sep=\" \")\n"
      ],
      "metadata": {
        "id": "zN0oD7AZP-Nz"
      },
      "execution_count": null,
      "outputs": []
    },
    {
      "cell_type": "code",
      "source": [
        "a=int(input(\"bir sayı giriniz\"))\n",
        "for i in range(2,a):\n",
        " durum=False\n",
        " if a%i==0:\n",
        "\n",
        "\n",
        "\n",
        "\n"
      ],
      "metadata": {
        "colab": {
          "base_uri": "https://localhost:8080/"
        },
        "id": "TNnLwbARTTB9",
        "outputId": "3af93025-80b9-415e-cdda-02fc6f1c0a44"
      },
      "execution_count": 118,
      "outputs": [
        {
          "output_type": "stream",
          "name": "stdout",
          "text": [
            "bir sayı giriniz9\n",
            "asal sayıdır\n",
            "asal sayı değildir\n"
          ]
        }
      ]
    },
    {
      "cell_type": "markdown",
      "source": [
        "  "
      ],
      "metadata": {
        "id": "HRcLUDPtdmq4"
      }
    },
    {
      "cell_type": "code",
      "source": [],
      "metadata": {
        "id": "-CsO1m2QdmKg"
      },
      "execution_count": null,
      "outputs": []
    }
  ]
}