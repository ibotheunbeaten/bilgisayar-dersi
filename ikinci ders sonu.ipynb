{
  "nbformat": 4,
  "nbformat_minor": 0,
  "metadata": {
    "colab": {
      "provenance": [],
      "authorship_tag": "ABX9TyNkNPIthWkb7PmMeSMBxRwd",
      "include_colab_link": true
    },
    "kernelspec": {
      "name": "python3",
      "display_name": "Python 3"
    },
    "language_info": {
      "name": "python"
    }
  },
  "cells": [
    {
      "cell_type": "markdown",
      "metadata": {
        "id": "view-in-github",
        "colab_type": "text"
      },
      "source": [
        "<a href=\"https://colab.research.google.com/github/ibotheunbeaten/bilgisayar-dersi/blob/main/ikinci%20ders%20sonu.ipynb\" target=\"_parent\"><img src=\"https://colab.research.google.com/assets/colab-badge.svg\" alt=\"Open In Colab\"/></a>"
      ]
    },
    {
      "cell_type": "code",
      "source": [
        "for i in range(1,10):\n",
        "       print(\"bbbbbb\")\n"
      ],
      "metadata": {
        "colab": {
          "base_uri": "https://localhost:8080/"
        },
        "id": "o7L4rq1gLP7E",
        "outputId": "6a7e7827-9ec5-4e2c-9065-1ac17137e0f1"
      },
      "execution_count": null,
      "outputs": [
        {
          "output_type": "stream",
          "name": "stdout",
          "text": [
            "bbbbbb\n",
            "bbbbbb\n",
            "bbbbbb\n",
            "bbbbbb\n",
            "bbbbbb\n",
            "bbbbbb\n",
            "bbbbbb\n",
            "bbbbbb\n",
            "bbbbbb\n"
          ]
        }
      ]
    },
    {
      "cell_type": "code",
      "execution_count": null,
      "metadata": {
        "colab": {
          "base_uri": "https://localhost:8080/"
        },
        "id": "UvYex_WjIkck",
        "outputId": "9d4e3132-017b-4982-9c16-244dc5d69aca"
      },
      "outputs": [
        {
          "output_type": "stream",
          "name": "stdout",
          "text": [
            "merhaba\n"
          ]
        }
      ],
      "source": [
        "print(\"merhaba\")\n"
      ]
    },
    {
      "cell_type": "code",
      "source": [
        "sayi1= int(input(\"birinci sayıyı giriniz\"))\n",
        "sayi2= int((input(\"ikinci sayıyı giriniz\")))\n",
        "toplam= sayi1+sayi2\n",
        "çarpım=sayi1*sayi2\n",
        "bölme=sayi1/sayi2\n",
        "çıkarma= sayi1-sayi2\n",
        "print(\"toplamı:\",toplam)\n",
        "print(\"çarpımı:\",çarpım)\n",
        "print(\"bölme :\",bölme)\n",
        "print(\"çıkarma : \", çıkarma)\n"
      ],
      "metadata": {
        "colab": {
          "base_uri": "https://localhost:8080/"
        },
        "id": "pYH_j9dJLpsV",
        "outputId": "4036d64b-360a-4d4f-f3b1-e42bbfad3f45"
      },
      "execution_count": null,
      "outputs": [
        {
          "output_type": "stream",
          "name": "stdout",
          "text": [
            "birinci sayıyı giriniz5\n",
            "ikinci sayıyı giriniz4\n",
            "toplamı: 9\n",
            "çarpımı: 20\n",
            "bölme : 1.25\n",
            "çıkarma :  1\n"
          ]
        }
      ]
    },
    {
      "cell_type": "code",
      "source": [
        "fn=int(input(\"ilk sayıyı giriniz\"))\n",
        "sn=int(input(\"ikinci sayıyı giriniz\"))\n",
        "print(fn,\"+\",sn,\"=\",fn+sn)\n"
      ],
      "metadata": {
        "id": "NNqsWliN49zP",
        "outputId": "088f89ef-069d-4c21-9bf2-2f6a6d2b6c77",
        "colab": {
          "base_uri": "https://localhost:8080/"
        }
      },
      "execution_count": 9,
      "outputs": [
        {
          "output_type": "stream",
          "name": "stdout",
          "text": [
            "ilk sayıyı giriniz5\n",
            "ikinci sayıyı giriniz1\n",
            "5 + 1 = 6\n"
          ]
        }
      ]
    },
    {
      "cell_type": "code",
      "source": [],
      "metadata": {
        "id": "462dp2Gk7B9I"
      },
      "execution_count": null,
      "outputs": []
    }
  ]
}