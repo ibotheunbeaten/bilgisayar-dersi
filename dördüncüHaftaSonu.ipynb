{
  "nbformat": 4,
  "nbformat_minor": 0,
  "metadata": {
    "colab": {
      "provenance": [],
      "authorship_tag": "ABX9TyM2AIzMmXt8916NKKbL5nym",
      "include_colab_link": true
    },
    "kernelspec": {
      "name": "python3",
      "display_name": "Python 3"
    },
    "language_info": {
      "name": "python"
    }
  },
  "cells": [
    {
      "cell_type": "markdown",
      "metadata": {
        "id": "view-in-github",
        "colab_type": "text"
      },
      "source": [
        "<a href=\"https://colab.research.google.com/github/ibotheunbeaten/bilgisayar-dersi/blob/main/d%C3%B6rd%C3%BCnc%C3%BCHaftaSonu.ipynb\" target=\"_parent\"><img src=\"https://colab.research.google.com/assets/colab-badge.svg\" alt=\"Open In Colab\"/></a>"
      ]
    },
    {
      "cell_type": "code",
      "source": [
        "for i in range(1,10):\n",
        "       print(\"bbbbbb\")\n"
      ],
      "metadata": {
        "colab": {
          "base_uri": "https://localhost:8080/"
        },
        "id": "o7L4rq1gLP7E",
        "outputId": "6a7e7827-9ec5-4e2c-9065-1ac17137e0f1"
      },
      "execution_count": null,
      "outputs": [
        {
          "output_type": "stream",
          "name": "stdout",
          "text": [
            "bbbbbb\n",
            "bbbbbb\n",
            "bbbbbb\n",
            "bbbbbb\n",
            "bbbbbb\n",
            "bbbbbb\n",
            "bbbbbb\n",
            "bbbbbb\n",
            "bbbbbb\n"
          ]
        }
      ]
    },
    {
      "cell_type": "code",
      "execution_count": null,
      "metadata": {
        "colab": {
          "base_uri": "https://localhost:8080/"
        },
        "id": "UvYex_WjIkck",
        "outputId": "9d4e3132-017b-4982-9c16-244dc5d69aca"
      },
      "outputs": [
        {
          "output_type": "stream",
          "name": "stdout",
          "text": [
            "merhaba\n"
          ]
        }
      ],
      "source": [
        "print(\"merhaba\")\n"
      ]
    },
    {
      "cell_type": "code",
      "source": [
        "sayi1= int(input(\"birinci sayıyı giriniz\"))\n",
        "sayi2= int((input(\"ikinci sayıyı giriniz\")))\n",
        "toplam= sayi1+sayi2\n",
        "çarpım=sayi1*sayi2\n",
        "bölme=sayi1/sayi2\n",
        "çıkarma= sayi1-sayi2\n",
        "print(\"toplamı:\",toplam)\n",
        "print(\"çarpımı:\",çarpım)\n",
        "print(\"bölme :\",bölme)\n",
        "print(\"çıkarma : \", çıkarma)\n"
      ],
      "metadata": {
        "colab": {
          "base_uri": "https://localhost:8080/"
        },
        "id": "pYH_j9dJLpsV",
        "outputId": "4036d64b-360a-4d4f-f3b1-e42bbfad3f45"
      },
      "execution_count": null,
      "outputs": [
        {
          "output_type": "stream",
          "name": "stdout",
          "text": [
            "birinci sayıyı giriniz5\n",
            "ikinci sayıyı giriniz4\n",
            "toplamı: 9\n",
            "çarpımı: 20\n",
            "bölme : 1.25\n",
            "çıkarma :  1\n"
          ]
        }
      ]
    },
    {
      "cell_type": "code",
      "source": [
        "fn=int(input(\"ilk sayıyı giriniz\"))\n",
        "sn=int(input(\"ikinci sayıyı giriniz\"))\n",
        "print(fn,\"+\",sn,\"=\",fn+sn)\n"
      ],
      "metadata": {
        "id": "NNqsWliN49zP",
        "outputId": "088f89ef-069d-4c21-9bf2-2f6a6d2b6c77",
        "colab": {
          "base_uri": "https://localhost:8080/"
        }
      },
      "execution_count": null,
      "outputs": [
        {
          "output_type": "stream",
          "name": "stdout",
          "text": [
            "ilk sayıyı giriniz5\n",
            "ikinci sayıyı giriniz1\n",
            "5 + 1 = 6\n"
          ]
        }
      ]
    },
    {
      "cell_type": "code",
      "source": [],
      "metadata": {
        "id": "462dp2Gk7B9I"
      },
      "execution_count": null,
      "outputs": []
    },
    {
      "cell_type": "markdown",
      "source": [
        "int integer sayı str string (kelime gibi), round yuvarlama(2.55>>2.00),pow üssü len(\"merhaba\") =7 karç harfli oldugunu gösterir\n"
      ],
      "metadata": {
        "id": "PH6TbxL9G4Gd"
      }
    },
    {
      "cell_type": "code",
      "source": [
        "a=int(input(\"\"))\n",
        "b=int(input(\"\"))\n",
        "if a==b:\n",
        "       print(\"eşit\")\n",
        "elif b>a:\n",
        "   print(b)\n",
        "else:\n",
        "      print(a)\n",
        "\n"
      ],
      "metadata": {
        "colab": {
          "base_uri": "https://localhost:8080/"
        },
        "id": "Z776ZG4jKD32",
        "outputId": "00c061cb-f547-4579-cca7-c2755aa208cf"
      },
      "execution_count": null,
      "outputs": [
        {
          "output_type": "stream",
          "name": "stdout",
          "text": [
            "5\n",
            "6\n",
            "6\n"
          ]
        }
      ]
    },
    {
      "cell_type": "code",
      "source": [
        "b=int(input(\"ilk sayıyı girin\"))\n",
        "c=int(input(\"ikinci sayıyı girin\"))\n",
        "print(\"işlemler:\\n1.toplama\\n2.çıkarma\\n3.çarpma\\n4.bölme\\n5.üssü\\n6.mod\\n\")\n",
        "a=int(input(\"işleminizi seçin\"))\n",
        "if a == 1: print(\"sonuç =\",c+b)\n",
        "elif a==2: print(\"sonuç =\",b-c)\n",
        "elif a==3:print(\"sonuç =\",b*c)\n",
        "elif a==4:print(\"sonuç =\",b/c)\n",
        "elif a==5:print(\"sonuç =\",b**c)\n",
        "else :print(\"sonuç =\",b%c)\n",
        "\n",
        "\n",
        "\n",
        "\n"
      ],
      "metadata": {
        "colab": {
          "base_uri": "https://localhost:8080/"
        },
        "id": "HghhLiPcNwez",
        "outputId": "7f52287c-7add-42a4-828a-a3526c34e8eb"
      },
      "execution_count": null,
      "outputs": [
        {
          "output_type": "stream",
          "name": "stdout",
          "text": [
            "ilk sayıyı girin4\n",
            "ikinci sayıyı girin5\n",
            "işlemler:\n",
            "1.toplama\n",
            "2.çıkarma\n",
            "3.çarpma\n",
            "4.bölme\n",
            "5.üssü\n",
            "6.mod\n",
            "\n",
            "işleminizi seçin1\n",
            "sonuç = 9\n"
          ]
        }
      ]
    },
    {
      "cell_type": "code",
      "source": [
        "m=\"bu iki sayının{},{}toplamı{}dır\"\n",
        "m:format(a,b,c)\n"
      ],
      "metadata": {
        "id": "zy2r0fg0TGRC",
        "outputId": "6e7c945d-dc66-4fff-d157-cf0bb170e682",
        "colab": {
          "base_uri": "https://localhost:8080/",
          "height": 165
        }
      },
      "execution_count": null,
      "outputs": [
        {
          "output_type": "error",
          "ename": "TypeError",
          "evalue": "format expected at most 2 arguments, got 3",
          "traceback": [
            "\u001b[0;31m---------------------------------------------------------------------------\u001b[0m",
            "\u001b[0;31mTypeError\u001b[0m                                 Traceback (most recent call last)",
            "\u001b[0;32m<ipython-input-20-16aac4ed2879>\u001b[0m in \u001b[0;36m<cell line: 0>\u001b[0;34m()\u001b[0m\n\u001b[1;32m      1\u001b[0m \u001b[0mm\u001b[0m\u001b[0;34m=\u001b[0m\u001b[0;34m\"bu iki sayının{},{}toplamı{}dır\"\u001b[0m\u001b[0;34m\u001b[0m\u001b[0;34m\u001b[0m\u001b[0m\n\u001b[0;32m----> 2\u001b[0;31m \u001b[0mm\u001b[0m\u001b[0;34m:\u001b[0m\u001b[0mformat\u001b[0m\u001b[0;34m(\u001b[0m\u001b[0ma\u001b[0m\u001b[0;34m,\u001b[0m\u001b[0mb\u001b[0m\u001b[0;34m,\u001b[0m\u001b[0mc\u001b[0m\u001b[0;34m)\u001b[0m\u001b[0;34m\u001b[0m\u001b[0;34m\u001b[0m\u001b[0m\n\u001b[0m",
            "\u001b[0;31mTypeError\u001b[0m: format expected at most 2 arguments, got 3"
          ]
        }
      ]
    },
    {
      "cell_type": "code",
      "source": [
        "x=int(input(\"sayi gir\"))\n",
        "if x<0 : print(3*x*x)\n",
        "elif x<100 :print((x*x+5)/21)\n",
        "else: print(x/2)\n"
      ],
      "metadata": {
        "id": "MaSeAcB5UU2y",
        "outputId": "eb6c2884-f56c-40ea-d462-b4e0303a9d52",
        "colab": {
          "base_uri": "https://localhost:8080/"
        }
      },
      "execution_count": null,
      "outputs": [
        {
          "output_type": "stream",
          "name": "stdout",
          "text": [
            "sayi gir56\n",
            "149.57142857142858\n"
          ]
        }
      ]
    },
    {
      "cell_type": "code",
      "source": [
        "mh=int(input(\"MOTOR HACMİ GİRİNİZ(santimetreküp cinsinden):\"))\n",
        "ötvm=int(input(\"ötvm giriniz(x1000)\"))\n",
        "if mh <1600:\n",
        "             if ötvm<184:\n",
        "                     print(\"vergi oranı=%45,yani arabanın toplam değeri =\",ötvm+ötvm*0.45)\n",
        "             elif ötvm<220:\n",
        "                     print(\"vergi oranı=%50 ,yani arabanın toplam değeri =\",ötvm+ötvm*0.50)\n",
        "             elif ötvm<250:\n",
        "                     print(\"vergi oranı=%60 ,yani arabanın toplam değeri =\",ötvm+ötvm*0.60)\n",
        "             elif ötvm<280:\n",
        "                     print(\"vergi oranı=%70 ,yani arabanın toplam değeri =\",ötvm+ötvm*0.70)\n",
        "             else : print((\"vergi oranı=%80 ,yani arabanın toplam değeri =\",ötvm+ötvm*0.80)\n",
        "\n",
        "elif mh<2000\n",
        "             if ötvm<184:\n",
        "                     print(\"vergi oranı=%45,yani arabanın toplam değeri =\",ötvm+ötvm*0.45)\n",
        "             elif ötvm<220:\n",
        "                     print(\"vergi oranı=%50 ,yani arabanın toplam değeri =\",ötvm+ötvm*0.50)\n",
        "             elif ötvm<250:\n",
        "                     print(\"vergi oranı=%60 ,yani arabanın toplam değeri =\",ötvm+ötvm*0.60)\n",
        "             elif ötvm<280:\n",
        "                     print(\"vergi oranı=%70 ,yani arabanın toplam değeri =\",ötvm+ötvm*0.70)\n",
        "             else : print((\"vergi oranı=%80 ,yani arabanın toplam değeri =\",ötvm+ötvm*0.80)\n"
      ],
      "metadata": {
        "id": "1hQkqEkcVK36",
        "outputId": "2ae0adf8-7327-4f62-9790-5f70f047a6d0",
        "colab": {
          "base_uri": "https://localhost:8080/"
        }
      },
      "execution_count": null,
      "outputs": [
        {
          "output_type": "stream",
          "name": "stdout",
          "text": [
            "MOTOR HACMİ GİRİNİZ(santimetreküp cinsinden):1599\n",
            "ötvm giriniz(x1000)70\n",
            "vergi oranı=%45,yani arabanın toplam değeri = 101.5\n"
          ]
        }
      ]
    },
    {
      "cell_type": "markdown",
      "source": [
        "4.hafta\n",
        "# 4.hafta"
      ],
      "metadata": {
        "id": "daZ7nabz_dcM"
      }
    },
    {
      "cell_type": "markdown",
      "source": [
        "yazbelden konuyu öğrenip"
      ],
      "metadata": {
        "id": "FbCPVypn_848"
      }
    },
    {
      "cell_type": "code",
      "source": [
        "\n",
        "import random\n",
        "elemansayısı=10\n",
        "yListe=[]\n",
        "for i in range(0,elemansayısı):\n",
        "    yListe.append(random.randint(1,90))\n",
        "  for t in range(0,elemansayısı)):\n",
        "\n",
        "print(yListe)\n",
        "\n",
        "     print(random.randint(1,90))\n",
        "\n",
        "\n"
      ],
      "metadata": {
        "id": "nCS02yqDdjxx",
        "colab": {
          "base_uri": "https://localhost:8080/",
          "height": 106
        },
        "outputId": "a1f2285b-38e7-4a83-fac0-bdf78bda1b44"
      },
      "execution_count": 25,
      "outputs": [
        {
          "output_type": "error",
          "ename": "IndentationError",
          "evalue": "unindent does not match any outer indentation level (<tokenize>, line 6)",
          "traceback": [
            "\u001b[0;36m  File \u001b[0;32m\"<tokenize>\"\u001b[0;36m, line \u001b[0;32m6\u001b[0m\n\u001b[0;31m    for t in range(0,elemansayısı)):\u001b[0m\n\u001b[0m    ^\u001b[0m\n\u001b[0;31mIndentationError\u001b[0m\u001b[0;31m:\u001b[0m unindent does not match any outer indentation level\n"
          ]
        }
      ]
    },
    {
      "cell_type": "code",
      "source": [
        "metin=\"kara kara kartallar dal kalkar kartal sarkar.\"\n",
        "parcali=metin.split(\" \")\n",
        "print(parcali)\n",
        "diller=[\"ingilizce\",\"fransızca\",\"rusca\"]\n",
        "len(diller)\n",
        "\n",
        "\n"
      ],
      "metadata": {
        "id": "Ah68kDbvdlnQ",
        "colab": {
          "base_uri": "https://localhost:8080/"
        },
        "outputId": "3fa7b0b0-e523-4b00-e051-9813e1ab7572"
      },
      "execution_count": 33,
      "outputs": [
        {
          "output_type": "stream",
          "name": "stdout",
          "text": [
            "['kara', 'kara', 'kartallar', 'dal', 'kalkar', 'kartal', 'sarkar.']\n"
          ]
        },
        {
          "output_type": "execute_result",
          "data": {
            "text/plain": [
              "3"
            ]
          },
          "metadata": {},
          "execution_count": 33
        }
      ]
    },
    {
      "cell_type": "code",
      "source": [
        "\n",
        "x=int(input(\"ilk sayı:\"))\n",
        "y=int(input(\"ikinci sayı:\"))\n",
        "z=int(input(\"arada kaç sayı olsun?:\"))\n",
        "import random\n",
        "Liste=[]\n",
        "for i in range(0,z):\n",
        "    Liste.append(random.randint(x+1,y-1))\n",
        "print(Liste)\n",
        "\n"
      ],
      "metadata": {
        "id": "nWis200gNBJR",
        "outputId": "d7d2dd4a-ea7d-419b-8536-af5ee7d8ab13",
        "colab": {
          "base_uri": "https://localhost:8080/",
          "height": 356
        }
      },
      "execution_count": 79,
      "outputs": [
        {
          "output_type": "error",
          "ename": "KeyboardInterrupt",
          "evalue": "Interrupted by user",
          "traceback": [
            "\u001b[0;31m---------------------------------------------------------------------------\u001b[0m",
            "\u001b[0;31mKeyboardInterrupt\u001b[0m                         Traceback (most recent call last)",
            "\u001b[0;32m<ipython-input-79-ea4c845774d4>\u001b[0m in \u001b[0;36m<cell line: 0>\u001b[0;34m()\u001b[0m\n\u001b[0;32m----> 1\u001b[0;31m \u001b[0mx\u001b[0m\u001b[0;34m=\u001b[0m\u001b[0mint\u001b[0m\u001b[0;34m(\u001b[0m\u001b[0minput\u001b[0m\u001b[0;34m(\u001b[0m\u001b[0;34m\"ilk sayı:\"\u001b[0m\u001b[0;34m)\u001b[0m\u001b[0;34m)\u001b[0m\u001b[0;34m\u001b[0m\u001b[0;34m\u001b[0m\u001b[0m\n\u001b[0m\u001b[1;32m      2\u001b[0m \u001b[0my\u001b[0m\u001b[0;34m=\u001b[0m\u001b[0mint\u001b[0m\u001b[0;34m(\u001b[0m\u001b[0minput\u001b[0m\u001b[0;34m(\u001b[0m\u001b[0;34m\"ikinci sayı:\"\u001b[0m\u001b[0;34m)\u001b[0m\u001b[0;34m)\u001b[0m\u001b[0;34m\u001b[0m\u001b[0;34m\u001b[0m\u001b[0m\n\u001b[1;32m      3\u001b[0m \u001b[0mz\u001b[0m\u001b[0;34m=\u001b[0m\u001b[0mint\u001b[0m\u001b[0;34m(\u001b[0m\u001b[0minput\u001b[0m\u001b[0;34m(\u001b[0m\u001b[0;34m\"arada kaç sayı olsun?:\"\u001b[0m\u001b[0;34m)\u001b[0m\u001b[0;34m)\u001b[0m\u001b[0;34m\u001b[0m\u001b[0;34m\u001b[0m\u001b[0m\n\u001b[1;32m      4\u001b[0m \u001b[0;32mimport\u001b[0m \u001b[0mrandom\u001b[0m\u001b[0;34m\u001b[0m\u001b[0;34m\u001b[0m\u001b[0m\n\u001b[1;32m      5\u001b[0m \u001b[0mListe\u001b[0m\u001b[0;34m=\u001b[0m\u001b[0;34m[\u001b[0m\u001b[0;34m]\u001b[0m\u001b[0;34m\u001b[0m\u001b[0;34m\u001b[0m\u001b[0m\n",
            "\u001b[0;32m/usr/local/lib/python3.11/dist-packages/ipykernel/kernelbase.py\u001b[0m in \u001b[0;36mraw_input\u001b[0;34m(self, prompt)\u001b[0m\n\u001b[1;32m   1175\u001b[0m                 \u001b[0;34m\"raw_input was called, but this frontend does not support input requests.\"\u001b[0m\u001b[0;34m\u001b[0m\u001b[0;34m\u001b[0m\u001b[0m\n\u001b[1;32m   1176\u001b[0m             )\n\u001b[0;32m-> 1177\u001b[0;31m         return self._input_request(\n\u001b[0m\u001b[1;32m   1178\u001b[0m             \u001b[0mstr\u001b[0m\u001b[0;34m(\u001b[0m\u001b[0mprompt\u001b[0m\u001b[0;34m)\u001b[0m\u001b[0;34m,\u001b[0m\u001b[0;34m\u001b[0m\u001b[0;34m\u001b[0m\u001b[0m\n\u001b[1;32m   1179\u001b[0m             \u001b[0mself\u001b[0m\u001b[0;34m.\u001b[0m\u001b[0m_parent_ident\u001b[0m\u001b[0;34m[\u001b[0m\u001b[0;34m\"shell\"\u001b[0m\u001b[0;34m]\u001b[0m\u001b[0;34m,\u001b[0m\u001b[0;34m\u001b[0m\u001b[0;34m\u001b[0m\u001b[0m\n",
            "\u001b[0;32m/usr/local/lib/python3.11/dist-packages/ipykernel/kernelbase.py\u001b[0m in \u001b[0;36m_input_request\u001b[0;34m(self, prompt, ident, parent, password)\u001b[0m\n\u001b[1;32m   1217\u001b[0m             \u001b[0;32mexcept\u001b[0m \u001b[0mKeyboardInterrupt\u001b[0m\u001b[0;34m:\u001b[0m\u001b[0;34m\u001b[0m\u001b[0;34m\u001b[0m\u001b[0m\n\u001b[1;32m   1218\u001b[0m                 \u001b[0;31m# re-raise KeyboardInterrupt, to truncate traceback\u001b[0m\u001b[0;34m\u001b[0m\u001b[0;34m\u001b[0m\u001b[0m\n\u001b[0;32m-> 1219\u001b[0;31m                 \u001b[0;32mraise\u001b[0m \u001b[0mKeyboardInterrupt\u001b[0m\u001b[0;34m(\u001b[0m\u001b[0;34m\"Interrupted by user\"\u001b[0m\u001b[0;34m)\u001b[0m \u001b[0;32mfrom\u001b[0m \u001b[0;32mNone\u001b[0m\u001b[0;34m\u001b[0m\u001b[0;34m\u001b[0m\u001b[0m\n\u001b[0m\u001b[1;32m   1220\u001b[0m             \u001b[0;32mexcept\u001b[0m \u001b[0mException\u001b[0m\u001b[0;34m:\u001b[0m\u001b[0;34m\u001b[0m\u001b[0;34m\u001b[0m\u001b[0m\n\u001b[1;32m   1221\u001b[0m                 \u001b[0mself\u001b[0m\u001b[0;34m.\u001b[0m\u001b[0mlog\u001b[0m\u001b[0;34m.\u001b[0m\u001b[0mwarning\u001b[0m\u001b[0;34m(\u001b[0m\u001b[0;34m\"Invalid Message:\"\u001b[0m\u001b[0;34m,\u001b[0m \u001b[0mexc_info\u001b[0m\u001b[0;34m=\u001b[0m\u001b[0;32mTrue\u001b[0m\u001b[0;34m)\u001b[0m\u001b[0;34m\u001b[0m\u001b[0;34m\u001b[0m\u001b[0m\n",
            "\u001b[0;31mKeyboardInterrupt\u001b[0m: Interrupted by user"
          ]
        }
      ]
    },
    {
      "cell_type": "code",
      "source": [
        "x=int(input(\"ilk sayı:\"))\n",
        "for i in range (0,100000)\n",
        "    i%2"
      ],
      "metadata": {
        "id": "vLsDNYdugPSF"
      },
      "execution_count": null,
      "outputs": []
    }
  ]
}